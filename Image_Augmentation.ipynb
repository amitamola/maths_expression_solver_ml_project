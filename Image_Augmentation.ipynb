{
 "cells": [
  {
   "cell_type": "code",
   "execution_count": 1,
   "id": "136c3bd0",
   "metadata": {},
   "outputs": [],
   "source": [
    "import cv2\n",
    "import numpy as np"
   ]
  },
  {
   "cell_type": "markdown",
   "id": "edecee51",
   "metadata": {},
   "source": [
    "### Emptying a folder"
   ]
  },
  {
   "cell_type": "code",
   "execution_count": 64,
   "id": "4655a481",
   "metadata": {},
   "outputs": [],
   "source": [
    "import os\n",
    "\n",
    "folder = 'combined_data_refined/'\n",
    "\n",
    "for sub_folder in os.listdir(folder):\n",
    "    for file in os.listdir(folder + '/' + sub_folder):\n",
    "        os.remove(folder + '/' + sub_folder + '/' + file)"
   ]
  },
  {
   "cell_type": "markdown",
   "id": "75208aa6",
   "metadata": {},
   "source": [
    "### Add whitespace and make images square"
   ]
  },
  {
   "cell_type": "code",
   "execution_count": 65,
   "id": "9f7f05f6",
   "metadata": {},
   "outputs": [],
   "source": [
    "import os\n",
    "import shutil\n",
    "\n",
    "#Read each image and add whitespace to make it square depending on which dimension is larger\n",
    "\n",
    "base_directory = 'combined_data'\n",
    "\n",
    "save_directory = 'combined_data_refined'\n",
    "\n",
    "\n",
    "for folder in os.listdir(base_directory):\n",
    "    folder_path = os.path.join(save_directory, folder)\n",
    "\n",
    "    if not os.path.exists(folder_path):\n",
    "        os.makedirs(folder_path)\n",
    "    \n",
    "    for img in os.listdir(os.path.join(base_directory, folder)):\n",
    "        img_path = os.path.join(base_directory, folder, img)\n",
    "        image = cv2.imread(img_path, 0)\n",
    "\n",
    "        if image.shape[0] > image.shape[1]:\n",
    "            diff = image.shape[0] - image.shape[1]\n",
    "            left = diff // 2\n",
    "            right = diff - left\n",
    "            \n",
    "            image = cv2.copyMakeBorder(image, 0, 0, left, right, cv2.BORDER_CONSTANT, value=255)\n",
    "        \n",
    "        elif image.shape[1] > image.shape[0]:\n",
    "            diff = image.shape[1] - image.shape[0]\n",
    "            top = diff // 2\n",
    "            bottom = diff - top\n",
    "            \n",
    "            image = cv2.copyMakeBorder(image, top, bottom, 0, 0, cv2.BORDER_CONSTANT, value=255)\n",
    "        \n",
    "        _, image = cv2.threshold(image, 225, 255, cv2.THRESH_BINARY)\n",
    "#         image_grayscale = cv2.cvtColor(image, cv2.COLOR_BGR2GRAY)\n",
    "        image_resized = cv2.resize(image, (150,150), interpolation=cv2.INTER_CUBIC)\n",
    "        cv2.imwrite(os.path.join(folder_path, img), image_resized)"
   ]
  },
  {
   "cell_type": "markdown",
   "id": "fb3f3031",
   "metadata": {},
   "source": [
    "# Do augmentation"
   ]
  },
  {
   "cell_type": "code",
   "execution_count": 2,
   "id": "8c855a44",
   "metadata": {},
   "outputs": [],
   "source": [
    "import os\n",
    "\n",
    "folder = 'data/final_set'\n",
    "\n",
    "for sub_folder in os.listdir(folder):\n",
    "    for file in os.listdir(folder + '/' + sub_folder):\n",
    "        os.remove(folder + '/' + sub_folder + '/' + file)"
   ]
  },
  {
   "cell_type": "code",
   "execution_count": 7,
   "id": "418ebea5",
   "metadata": {},
   "outputs": [
    {
     "name": "stdout",
     "output_type": "stream",
     "text": [
      "Running for add\n",
      "Running for divide\n"
     ]
    }
   ],
   "source": [
    "# randomly pick 20 images from each subfolder in old_folder and copy in same subfolder in new_folder\n",
    "\n",
    "import cv2\n",
    "import matplotlib.pyplot as plt\n",
    "import albumentations as A\n",
    "import os\n",
    "\n",
    "base_directory = 'for_try/train/'\n",
    "save_directory = 'for_try/out/'\n",
    "\n",
    "if not os.path.exists(save_directory):\n",
    "    os.makedirs(save_directory)\n",
    "\n",
    "folders_to_work = ['add', 'divide']\n",
    "\n",
    "#Defining dictionary of augmentations with key as augmentation type and value as augmentation object\n",
    "aug_dict = {\"v_flip\": A.VerticalFlip(p=1), \n",
    "            'h_flip': A.HorizontalFlip(p=1.0),\n",
    "            \"ela_tfm\": A.ElasticTransform(p=1.0, interpolation=3, alpha=0.99, sigma=200.0, alpha_affine=16.45),\n",
    "            'affine': A.PiecewiseAffine(p=1.0, scale=(0.03, 0.05), nb_rows=(4, 4), \\\n",
    "                      nb_cols=(4, 4), interpolation=3, mask_interpolation=3, cval=0, cval_mask=0, \n",
    "                      mode='constant', absolute_scale=0, keypoints_threshold=0.01),\n",
    "            'ssr': A.ShiftScaleRotate(p=1.0, shift_limit_x=(-0.06, 0.06), shift_limit_y=(-0.06, 0.06), scale_limit=(-0.09999999999999998, 0.10000000000000009), rotate_limit=(-14, 14), interpolation=3, border_mode=0, value=(255, 255, 255), mask_value=None, rotate_method='largest_box')\n",
    "}\n",
    "\n",
    "#Let's define which augmentation we can performing for which folder\n",
    "aug_dict_for_folders = {'add': ['v_flip', 'h_flip', 'ela_tfm', 'affine', 'ssr'],\n",
    "                        'divide': ['v_flip', 'h_flip', 'ela_tfm', 'affine', 'ssr']}\n",
    "\n",
    "for folder, value in aug_dict_for_folders.items():\n",
    "    print(f'Running for {folder}')\n",
    "    for img in os.listdir(base_directory + folder):\n",
    "        image = cv2.imread(base_directory + folder + '/' + img, 0)\n",
    "        for aug in value:\n",
    "            aug_obj = aug_dict[aug]\n",
    "            augmented = aug_obj(image=image)\n",
    "            augmented_image = augmented['image']\n",
    "            cv2.imwrite(save_directory + '/' + folder + '/' + aug + '_' + img, augmented_image)"
   ]
  },
  {
   "cell_type": "code",
   "execution_count": 6,
   "id": "7789dfdb",
   "metadata": {},
   "outputs": [
    {
     "data": {
      "text/plain": [
       "'for_try/out//divide/ssr_divide_5.png'"
      ]
     },
     "execution_count": 6,
     "metadata": {},
     "output_type": "execute_result"
    }
   ],
   "source": [
    "save_directory + '/' + folder + '/' + aug + '_' + img"
   ]
  },
  {
   "cell_type": "code",
   "execution_count": 20,
   "id": "3b9b9dc7",
   "metadata": {},
   "outputs": [],
   "source": [
    "import os\n",
    "\n",
    "folder = 'data/final_set_augmentation/'\n",
    "\n",
    "for sub_folder in os.listdir(folder):\n",
    "    for file in os.listdir(folder + '/' + sub_folder):\n",
    "        os.remove(folder + '/' + sub_folder + '/' + file)"
   ]
  },
  {
   "cell_type": "code",
   "execution_count": 24,
   "id": "d4e95b22",
   "metadata": {},
   "outputs": [],
   "source": [
    "for subfolder in os.listdir(os.path.join('data', 'final_set')):\n",
    "    #Create subfolder is not exist\n",
    "    if not os.path.exists(os.path.join('data', 'absolute_final', subfolder)):\n",
    "        os.makedirs(os.path.join('data', 'absolute_final', subfolder))\n",
    "\n",
    "    counter = 1\n",
    "    for file in os.listdir(os.path.join('data', 'final_set', subfolder)):\n",
    "        shutil.copy(os.path.join('data', 'final_set', subfolder, file), os.path.join('data', 'absolute_final', subfolder, f\"{subfolder}_image{counter}.png\"))\n",
    "        counter+=1\n",
    "    \n",
    "    if subfolder in os.listdir(os.path.join('data', 'final_set_augmentation')):\n",
    "        for file in os.listdir(os.path.join('data', 'final_set_augmentation', subfolder)):\n",
    "            shutil.copy(os.path.join('data', 'final_set_augmentation', subfolder, file), os.path.join('data', 'absolute_final', subfolder, f\"{subfolder}_image{counter}.png\"))\n",
    "            counter+=1"
   ]
  },
  {
   "cell_type": "code",
   "execution_count": 27,
   "id": "ceaaf112",
   "metadata": {},
   "outputs": [
    {
     "name": "stdout",
     "output_type": "stream",
     "text": [
      "add 3550\n",
      "divide 3294\n",
      "eight 3469\n",
      "five 3534\n",
      "four 3976\n",
      "multiply 3950\n",
      "nine 4016\n",
      "one 4539\n",
      "seven 4058\n",
      "six 3730\n",
      "subtract 4315\n",
      "three 3233\n",
      "two 4786\n",
      "zero 2999\n"
     ]
    }
   ],
   "source": [
    "import os\n",
    "\n",
    "folder = 'data/absolute_final'\n",
    "\n",
    "for subfolder in os.listdir(folder):\n",
    "    print(subfolder, len(os.listdir(os.path.join(folder, subfolder))))"
   ]
  },
  {
   "cell_type": "code",
   "execution_count": 29,
   "id": "a4357ba2",
   "metadata": {},
   "outputs": [
    {
     "name": "stdout",
     "output_type": "stream",
     "text": [
      "add 3550\n",
      "divide 3294\n",
      "eight 3469\n",
      "five 3534\n",
      "four 3976\n",
      "multiply 3950\n",
      "nine 4016\n",
      "one 4539\n",
      "seven 4058\n",
      "six 3730\n",
      "subtract 4315\n",
      "three 3233\n",
      "two 4786\n",
      "zero 2999\n"
     ]
    }
   ],
   "source": [
    "import os\n",
    "\n",
    "folder = 'data/absolute_final'\n",
    "\n",
    "for subfolder in os.listdir(folder):\n",
    "    print(subfolder, len(os.listdir(os.path.join(folder, subfolder))))"
   ]
  },
  {
   "cell_type": "code",
   "execution_count": 26,
   "id": "e592dec9",
   "metadata": {},
   "outputs": [
    {
     "name": "stdout",
     "output_type": "stream",
     "text": [
      "Running for seven\n"
     ]
    }
   ],
   "source": [
    "# randomly pick 20 images from each subfolder in old_folder and copy in same subfolder in new_folder\n",
    "\n",
    "import cv2\n",
    "import matplotlib.pyplot as plt\n",
    "import albumentations as A\n",
    "import os\n",
    "\n",
    "base_directory = 'data/final_set/'\n",
    "save_directory = 'data/final_set_augmentation/'\n",
    "\n",
    "if not os.path.exists(save_directory):\n",
    "    os.makedirs(save_directory)\n",
    "\n",
    "folders_to_work = ['seven']\n",
    "\n",
    "#Let's define which augmentation we can performing for which folder\n",
    "aug_dict_for_folders = {'seven': ['ssr']}\n",
    "\n",
    "aug_obj = A.ShiftScaleRotate(p=1.0, shift_limit_x=(-0.08, 0.08), shift_limit_y=(-0.08, 0.08), \n",
    "                             scale_limit=(-0.1, 0.1), rotate_limit=(-20, 20), interpolation=3, \n",
    "                             border_mode=0, value=(255, 255, 255), mask_value=None, rotate_method='ellipse')\n",
    "\n",
    "for folder, value in aug_dict_for_folders.items():\n",
    "    if not os.path.exists(os.path.join(save_directory, folder)):\n",
    "        os.makedirs(os.path.join(save_directory, folder))\n",
    "        \n",
    "    print(f'Running for {folder}')\n",
    "    for img in os.listdir(base_directory + folder):\n",
    "        image = cv2.imread(base_directory + folder + '/' + img, 0)\n",
    "        for aug in value:\n",
    "            augmented = aug_obj(image=image)\n",
    "            augmented_image = augmented['image']\n",
    "            cv2.imwrite(save_directory + '/' + folder + '/' + aug + 'kuch_bhi' + img, augmented_image)"
   ]
  },
  {
   "cell_type": "code",
   "execution_count": 28,
   "id": "296c9b68",
   "metadata": {},
   "outputs": [],
   "source": [
    "# Rename file by folder_name_count\n",
    "\n",
    "import os\n",
    "\n",
    "folder = 'data/absolute_final'\n",
    "\n",
    "for folder_name in os.listdir(folder):\n",
    "    count = 0\n",
    "    for file_name in os.listdir(folder + '/' + folder_name):\n",
    "        count += 1\n",
    "        os.rename(folder + '/' + folder_name + '/' + file_name, folder + '/' + folder_name + '/' + folder_name + '_' + str(count) + '.png')"
   ]
  },
  {
   "cell_type": "code",
   "execution_count": 30,
   "id": "19a98bb8",
   "metadata": {},
   "outputs": [],
   "source": [
    "import os\n",
    "import shutil\n",
    "\n",
    "#Read each image and add whitespace to make it square depending on which dimension is larger\n",
    "\n",
    "base_directory = 'data/absolute_final'\n",
    "\n",
    "save_directory = 'final_symbols'\n",
    "\n",
    "\n",
    "for folder in os.listdir(base_directory):\n",
    "    folder_path = os.path.join(save_directory, folder)\n",
    "\n",
    "    if not os.path.exists(folder_path):\n",
    "        os.makedirs(folder_path)\n",
    "    \n",
    "    for img in os.listdir(os.path.join(base_directory, folder)):\n",
    "        img_path = os.path.join(base_directory, folder, img)\n",
    "        image = cv2.imread(img_path, 0)\n",
    "\n",
    "        if image.shape[0] > image.shape[1]:\n",
    "            diff = image.shape[0] - image.shape[1]\n",
    "            left = diff // 2\n",
    "            right = diff - left\n",
    "            \n",
    "            image = cv2.copyMakeBorder(image, 0, 0, left, right, cv2.BORDER_CONSTANT, value=255)\n",
    "        \n",
    "        elif image.shape[1] > image.shape[0]:\n",
    "            diff = image.shape[1] - image.shape[0]\n",
    "            top = diff // 2\n",
    "            bottom = diff - top\n",
    "            \n",
    "            image = cv2.copyMakeBorder(image, top, bottom, 0, 0, cv2.BORDER_CONSTANT, value=255)\n",
    "        \n",
    "#         _, image = cv2.threshold(image, 225, 255, cv2.THRESH_BINARY)\n",
    "#         image_grayscale = cv2.cvtColor(image, cv2.COLOR_BGR2GRAY)\n",
    "        image_resized = cv2.resize(image, (150,150), interpolation=cv2.INTER_CUBIC)\n",
    "        cv2.imwrite(os.path.join(folder_path, img), image_resized)"
   ]
  },
  {
   "cell_type": "code",
   "execution_count": 1,
   "id": "158c8a53",
   "metadata": {},
   "outputs": [],
   "source": [
    "import splitfolders\n",
    "splitfolders.ratio('final_symbols/', output=\"final_symbols_split_ttv\", seed=1632, ratio=(.8, 0.1, 0.1)) "
   ]
  }
 ],
 "metadata": {
  "kernelspec": {
   "display_name": "easyocr",
   "language": "python",
   "name": "easyocr"
  },
  "language_info": {
   "codemirror_mode": {
    "name": "ipython",
    "version": 3
   },
   "file_extension": ".py",
   "mimetype": "text/x-python",
   "name": "python",
   "nbconvert_exporter": "python",
   "pygments_lexer": "ipython3",
   "version": "3.8.13"
  }
 },
 "nbformat": 4,
 "nbformat_minor": 5
}
