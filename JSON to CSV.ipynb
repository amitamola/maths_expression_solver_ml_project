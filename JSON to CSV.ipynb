{
 "cells": [
  {
   "cell_type": "code",
   "execution_count": 32,
   "id": "ed071e56",
   "metadata": {},
   "outputs": [],
   "source": [
    "import cv2\n",
    "import matplotlib.pyplot as plt\n",
    "%matplotlib inline"
   ]
  },
  {
   "cell_type": "markdown",
   "id": "83db3c45",
   "metadata": {},
   "source": [
    "## Main1- Captioning to CSV"
   ]
  },
  {
   "cell_type": "code",
   "execution_count": 4,
   "id": "3b1c6f2b",
   "metadata": {},
   "outputs": [],
   "source": [
    "# Read JSON file\n",
    "import json\n",
    "import pandas as pd\n",
    "\n",
    "# Read JSON file\n",
    "img_name = []\n",
    "label = []\n",
    "with open('from_amit/data2x/captioning_output.json') as f:\n",
    "    data = json.load(f)\n",
    "    \n",
    "    for item in data:\n",
    "        img_name.append(item['captioning'].split('-')[1])\n",
    "        label.append(item['caption'])"
   ]
  },
  {
   "cell_type": "code",
   "execution_count": 5,
   "id": "3feaf9a3",
   "metadata": {},
   "outputs": [],
   "source": [
    "# Create dataframe\n",
    "df = pd.DataFrame({'img_name': img_name, 'label': label})"
   ]
  },
  {
   "cell_type": "code",
   "execution_count": 6,
   "id": "73a0b647",
   "metadata": {},
   "outputs": [],
   "source": [
    "#Sort df by img_name\n",
    "df = df.sort_values(by=['img_name'])"
   ]
  },
  {
   "cell_type": "code",
   "execution_count": 7,
   "id": "e3c07a88",
   "metadata": {},
   "outputs": [],
   "source": [
    "df.to_csv('from_amit/data2x/captioning_ground_truth.csv', index=False)"
   ]
  },
  {
   "cell_type": "code",
   "execution_count": 8,
   "id": "a2c9e7ca",
   "metadata": {},
   "outputs": [
    {
     "data": {
      "text/html": [
       "<div>\n",
       "<style scoped>\n",
       "    .dataframe tbody tr th:only-of-type {\n",
       "        vertical-align: middle;\n",
       "    }\n",
       "\n",
       "    .dataframe tbody tr th {\n",
       "        vertical-align: top;\n",
       "    }\n",
       "\n",
       "    .dataframe thead th {\n",
       "        text-align: right;\n",
       "    }\n",
       "</style>\n",
       "<table border=\"1\" class=\"dataframe\">\n",
       "  <thead>\n",
       "    <tr style=\"text-align: right;\">\n",
       "      <th></th>\n",
       "      <th>img_name</th>\n",
       "      <th>label</th>\n",
       "    </tr>\n",
       "  </thead>\n",
       "  <tbody>\n",
       "    <tr>\n",
       "      <th>19</th>\n",
       "      <td>amit_second_image1.png</td>\n",
       "      <td>4+6/70</td>\n",
       "    </tr>\n",
       "    <tr>\n",
       "      <th>10</th>\n",
       "      <td>amit_second_image10.png</td>\n",
       "      <td>708-47</td>\n",
       "    </tr>\n",
       "    <tr>\n",
       "      <th>9</th>\n",
       "      <td>amit_second_image11.png</td>\n",
       "      <td>87+6-7</td>\n",
       "    </tr>\n",
       "    <tr>\n",
       "      <th>8</th>\n",
       "      <td>amit_second_image12.png</td>\n",
       "      <td>4+4-4/4</td>\n",
       "    </tr>\n",
       "    <tr>\n",
       "      <th>7</th>\n",
       "      <td>amit_second_image13.png</td>\n",
       "      <td>6+6-6/6</td>\n",
       "    </tr>\n",
       "    <tr>\n",
       "      <th>6</th>\n",
       "      <td>amit_second_image14.png</td>\n",
       "      <td>7+7-7/7</td>\n",
       "    </tr>\n",
       "    <tr>\n",
       "      <th>5</th>\n",
       "      <td>amit_second_image15.png</td>\n",
       "      <td>0/0+0-0</td>\n",
       "    </tr>\n",
       "    <tr>\n",
       "      <th>4</th>\n",
       "      <td>amit_second_image16.png</td>\n",
       "      <td>0*4+6-0</td>\n",
       "    </tr>\n",
       "    <tr>\n",
       "      <th>3</th>\n",
       "      <td>amit_second_image17.png</td>\n",
       "      <td>7+6-0+4</td>\n",
       "    </tr>\n",
       "    <tr>\n",
       "      <th>2</th>\n",
       "      <td>amit_second_image18.png</td>\n",
       "      <td>6+0-7/4</td>\n",
       "    </tr>\n",
       "    <tr>\n",
       "      <th>1</th>\n",
       "      <td>amit_second_image19.png</td>\n",
       "      <td>76+4-7</td>\n",
       "    </tr>\n",
       "    <tr>\n",
       "      <th>18</th>\n",
       "      <td>amit_second_image2.png</td>\n",
       "      <td>704-6+4</td>\n",
       "    </tr>\n",
       "    <tr>\n",
       "      <th>0</th>\n",
       "      <td>amit_second_image20.png</td>\n",
       "      <td>6/4+0-7</td>\n",
       "    </tr>\n",
       "    <tr>\n",
       "      <th>17</th>\n",
       "      <td>amit_second_image3.png</td>\n",
       "      <td>64*5+7</td>\n",
       "    </tr>\n",
       "    <tr>\n",
       "      <th>16</th>\n",
       "      <td>amit_second_image4.png</td>\n",
       "      <td>74-6/4</td>\n",
       "    </tr>\n",
       "    <tr>\n",
       "      <th>15</th>\n",
       "      <td>amit_second_image5.png</td>\n",
       "      <td>60/70+4</td>\n",
       "    </tr>\n",
       "    <tr>\n",
       "      <th>14</th>\n",
       "      <td>amit_second_image6.png</td>\n",
       "      <td>462-60</td>\n",
       "    </tr>\n",
       "    <tr>\n",
       "      <th>13</th>\n",
       "      <td>amit_second_image7.png</td>\n",
       "      <td>70-6+4</td>\n",
       "    </tr>\n",
       "    <tr>\n",
       "      <th>12</th>\n",
       "      <td>amit_second_image8.png</td>\n",
       "      <td>704-607</td>\n",
       "    </tr>\n",
       "    <tr>\n",
       "      <th>11</th>\n",
       "      <td>amit_second_image9.png</td>\n",
       "      <td>67-403</td>\n",
       "    </tr>\n",
       "  </tbody>\n",
       "</table>\n",
       "</div>"
      ],
      "text/plain": [
       "                   img_name    label\n",
       "19   amit_second_image1.png   4+6/70\n",
       "10  amit_second_image10.png   708-47\n",
       "9   amit_second_image11.png   87+6-7\n",
       "8   amit_second_image12.png  4+4-4/4\n",
       "7   amit_second_image13.png  6+6-6/6\n",
       "6   amit_second_image14.png  7+7-7/7\n",
       "5   amit_second_image15.png  0/0+0-0\n",
       "4   amit_second_image16.png  0*4+6-0\n",
       "3   amit_second_image17.png  7+6-0+4\n",
       "2   amit_second_image18.png  6+0-7/4\n",
       "1   amit_second_image19.png   76+4-7\n",
       "18   amit_second_image2.png  704-6+4\n",
       "0   amit_second_image20.png  6/4+0-7\n",
       "17   amit_second_image3.png   64*5+7\n",
       "16   amit_second_image4.png   74-6/4\n",
       "15   amit_second_image5.png  60/70+4\n",
       "14   amit_second_image6.png   462-60\n",
       "13   amit_second_image7.png   70-6+4\n",
       "12   amit_second_image8.png  704-607\n",
       "11   amit_second_image9.png   67-403"
      ]
     },
     "execution_count": 8,
     "metadata": {},
     "output_type": "execute_result"
    }
   ],
   "source": [
    "df"
   ]
  },
  {
   "cell_type": "markdown",
   "id": "16096419",
   "metadata": {},
   "source": [
    "### Counting the instances for individual folder"
   ]
  },
  {
   "cell_type": "code",
   "execution_count": 20,
   "id": "f55d677c",
   "metadata": {},
   "outputs": [],
   "source": [
    "import os\n",
    "from collections import Counter\n",
    "\n",
    "folder = 'from_mary/data2x/for_bbox'\n",
    "\n",
    "image_name_list = os.listdir(folder)\n",
    "\n",
    "df_only_bbox = pd.read_csv('from_mary/captioning_ground_truth2x.csv')\n",
    "\n",
    "df_only_bbox = df_only_bbox[df_only_bbox['img_name'].isin(image_name_list)]"
   ]
  },
  {
   "cell_type": "code",
   "execution_count": 21,
   "id": "95844391",
   "metadata": {},
   "outputs": [],
   "source": [
    "all_vals = df_only_bbox['label'].values\n",
    "new_dict = Counter(all_vals[0])\n",
    "\n",
    "for val in all_vals[1:]:\n",
    "    new_dict.update(dict(Counter(val)))"
   ]
  },
  {
   "cell_type": "code",
   "execution_count": 22,
   "id": "36e7e888",
   "metadata": {},
   "outputs": [
    {
     "data": {
      "text/plain": [
       "Counter({'3': 183,\n",
       "         '4': 80,\n",
       "         '5': 130,\n",
       "         '*': 193,\n",
       "         '7': 109,\n",
       "         '/': 62,\n",
       "         '8': 155,\n",
       "         '1': 220,\n",
       "         '2': 153,\n",
       "         '-': 146,\n",
       "         '9': 131,\n",
       "         '6': 102,\n",
       "         '+': 45,\n",
       "         '0': 35})"
      ]
     },
     "execution_count": 22,
     "metadata": {},
     "output_type": "execute_result"
    }
   ],
   "source": [
    "new_dict"
   ]
  },
  {
   "cell_type": "markdown",
   "id": "14f2553d",
   "metadata": {},
   "source": [
    "### Grand total for all folders"
   ]
  },
  {
   "cell_type": "code",
   "execution_count": 23,
   "id": "2494206c",
   "metadata": {},
   "outputs": [
    {
     "name": "stdout",
     "output_type": "stream",
     "text": [
      "Counter({'1': 323, '2': 315, '3': 277, '9': 265, '*': 235, '4': 232, '-': 225, '8': 223, '+': 222, '0': 213, '7': 206, '5': 197, '6': 187, '/': 170})\n"
     ]
    }
   ],
   "source": [
    "from collections import Counter\n",
    "\n",
    "def send_count_back(c_ob, to_count):\n",
    "    for val in to_count:\n",
    "        c_ob.update(dict(Counter(val)))\n",
    "        \n",
    "new_c = Counter()\n",
    "\n",
    "for folder in ['from_amit', 'from_haneesh', 'from_mary']:\n",
    "    df_only_bbox = pd.read_csv(f'{folder}/captioning_ground_truth.csv')\n",
    "    image_name_list = os.listdir(f'{folder}/for_bbox')\n",
    "    \n",
    "    df_only_bbox = df_only_bbox[df_only_bbox['img_name'].isin(image_name_list)]\n",
    "    \n",
    "    all_vals = df_only_bbox['label'].values\n",
    "    \n",
    "    send_count_back(new_c, all_vals)\n",
    "\n",
    "print(new_c)"
   ]
  },
  {
   "cell_type": "code",
   "execution_count": 26,
   "id": "85d1e57c",
   "metadata": {},
   "outputs": [
    {
     "name": "stdout",
     "output_type": "stream",
     "text": [
      "2 : 468\n",
      "3 : 460\n",
      "- : 371\n",
      "4 : 312\n",
      "+ : 267\n",
      "8 : 378\n",
      "9 : 396\n",
      "/ : 232\n",
      "5 : 327\n",
      "6 : 289\n",
      "0 : 248\n",
      "* : 428\n",
      "1 : 543\n",
      "7 : 315\n"
     ]
    }
   ],
   "source": [
    "for key, val in new_c.items():\n",
    "    print(f'{key} : {new_c[key]+new_dict[key]}')"
   ]
  },
  {
   "cell_type": "markdown",
   "id": "19703f74",
   "metadata": {},
   "source": [
    "### Ground truth train_test split"
   ]
  },
  {
   "cell_type": "code",
   "execution_count": null,
   "id": "3c11de71",
   "metadata": {},
   "outputs": [],
   "source": []
  },
  {
   "cell_type": "markdown",
   "id": "450eb6be",
   "metadata": {},
   "source": [
    "#### Output checks"
   ]
  },
  {
   "cell_type": "code",
   "execution_count": 6,
   "id": "1e37a1fa",
   "metadata": {},
   "outputs": [
    {
     "data": {
      "text/plain": [
       "2021"
      ]
     },
     "execution_count": 6,
     "metadata": {},
     "output_type": "execute_result"
    }
   ],
   "source": [
    "df['label'].apply(len).sum()"
   ]
  },
  {
   "cell_type": "code",
   "execution_count": 7,
   "id": "dbd90b15",
   "metadata": {},
   "outputs": [],
   "source": [
    "for val in df.label.values:\n",
    "    if ' ' in val:\n",
    "        print(val)"
   ]
  },
  {
   "cell_type": "code",
   "execution_count": 8,
   "id": "656660b1",
   "metadata": {},
   "outputs": [],
   "source": [
    "for val in df.label.values:\n",
    "    if 'x' in val:\n",
    "        print(val)"
   ]
  },
  {
   "cell_type": "markdown",
   "id": "e3b563cc",
   "metadata": {},
   "source": [
    "## Main2 - BBox to CSV"
   ]
  },
  {
   "cell_type": "code",
   "execution_count": 14,
   "id": "c9fdf754",
   "metadata": {},
   "outputs": [],
   "source": [
    "import os\n",
    "\n",
    "folder = 'combined_data'\n",
    "\n",
    "for sub_folder in os.listdir(folder):\n",
    "    for file in os.listdir(folder + '/' + sub_folder):\n",
    "        os.remove(folder + '/' + sub_folder + '/' + file)"
   ]
  },
  {
   "cell_type": "code",
   "execution_count": 12,
   "id": "4cd5f46f",
   "metadata": {},
   "outputs": [],
   "source": [
    "import json\n",
    "import os\n",
    "import cv2\n",
    "\n",
    "image_dir = 'from_amit/data2x/all_images'\n",
    "save_dir = 'from_amit/data2x/symbols from original_data'\n",
    "namess = []\n",
    "counter = 1\n",
    "# Read JSON file\n",
    "with open('from_amit/data2x/bbox_output.json') as f:\n",
    "    data = json.load(f)\n",
    "    \n",
    "    for item in data:\n",
    "        img_name = item['image'].split('-')[1]\n",
    "        #read image\n",
    "        img = cv2.imread(os.path.join(image_dir, img_name))\n",
    "\n",
    "        #get bounding box coordinates, as x, y and width, height\n",
    "        for values in item['label']:\n",
    "            x = int((values['x']*values['original_width'])/ 100)\n",
    "            y = int((values['y']*values['original_height'])/ 100)\n",
    "            w = int((values['width']*values['original_width'])/ 100)\n",
    "            h = int((values['height']*values['original_height'])/ 100)\n",
    "\n",
    "            #crop image\n",
    "            crop_img = img[y:y+h, x:x+w]\n",
    "            lab = values['rectanglelabels'][0]\n",
    "\n",
    "            save_name = lab+'_'+str(counter)+'.png'\n",
    "            namess.append(save_name)\n",
    "            #save cropped image\n",
    "            cv2.imwrite(os.path.join(save_dir, lab, save_name), crop_img)\n",
    "            counter += 1"
   ]
  },
  {
   "cell_type": "markdown",
   "id": "dd443f68",
   "metadata": {},
   "source": [
    "### Getting count of each symbol"
   ]
  },
  {
   "cell_type": "code",
   "execution_count": 13,
   "id": "dff119ab",
   "metadata": {},
   "outputs": [],
   "source": [
    "import os\n",
    "\n",
    "main_folder = 'from_haneesh/data2x/symbols from original_data'\n",
    "\n",
    "listy = []\n",
    "\n",
    "for folder in os.listdir(main_folder):\n",
    "    folder_path = os.path.join(main_folder, folder)\n",
    "    count = len(os.listdir(folder_path))\n",
    "    listy.append((folder, count))"
   ]
  },
  {
   "cell_type": "code",
   "execution_count": 8,
   "id": "1682e933",
   "metadata": {
    "scrolled": true
   },
   "outputs": [
    {
     "data": {
      "text/plain": [
       "[('add', 38),\n",
       " ('divide', 39),\n",
       " ('eight', 8),\n",
       " ('five', 14),\n",
       " ('four', 68),\n",
       " ('multiply', 1),\n",
       " ('nine', 7),\n",
       " ('one', 17),\n",
       " ('seven', 60),\n",
       " ('six', 43),\n",
       " ('subtract', 29),\n",
       " ('three', 14),\n",
       " ('two', 16),\n",
       " ('zero', 36)]"
      ]
     },
     "execution_count": 8,
     "metadata": {},
     "output_type": "execute_result"
    }
   ],
   "source": [
    "listy"
   ]
  },
  {
   "cell_type": "markdown",
   "id": "e404bb01",
   "metadata": {},
   "source": [
    "### Bringing all annotations together"
   ]
  },
  {
   "cell_type": "code",
   "execution_count": 60,
   "id": "b8752216",
   "metadata": {},
   "outputs": [
    {
     "data": {
      "text/plain": [
       "numpy.uint8"
      ]
     },
     "execution_count": 60,
     "metadata": {},
     "output_type": "execute_result"
    }
   ],
   "source": [
    "type(img.min())"
   ]
  },
  {
   "cell_type": "code",
   "execution_count": 61,
   "id": "fd2b281e",
   "metadata": {},
   "outputs": [
    {
     "data": {
      "image/png": "[encoded data removed]",
      "text/plain": [
       "<Figure size 640x480 with 1 Axes>"
      ]
     },
     "metadata": {},
     "output_type": "display_data"
    },
    {
     "data": {
      "image/png": "[encoded data removed]",
      "text/plain": [
       "<Figure size 640x480 with 1 Axes>"
      ]
     },
     "metadata": {},
     "output_type": "display_data"
    }
   ],
   "source": [
    "img = cv2.imread('combined_data_refined/add/3283add_385.png', 0)\n",
    "\n",
    "out, out2 = cv2.threshold(img, 200, 255, cv2.THRESH_BINARY)\n",
    "\n",
    "plt.imshow(img, cmap='gray')\n",
    "plt.show()\n",
    "\n",
    "plt.imshow(out2, cmap='gray')\n",
    "plt.show()"
   ]
  },
  {
   "cell_type": "code",
   "execution_count": 55,
   "id": "0c1122da",
   "metadata": {},
   "outputs": [
    {
     "data": {
      "text/plain": [
       "216"
      ]
     },
     "execution_count": 55,
     "metadata": {},
     "output_type": "execute_result"
    }
   ],
   "source": [
    "img.min()"
   ]
  },
  {
   "cell_type": "code",
   "execution_count": 31,
   "id": "3d0a1954",
   "metadata": {},
   "outputs": [],
   "source": [
    "import os\n",
    "\n",
    "folder = 'combined_data_plus_previous/'\n",
    "\n",
    "for sub_folder in os.listdir(folder):\n",
    "    for file in os.listdir(folder + '/' + sub_folder):\n",
    "        os.remove(folder + '/' + sub_folder + '/' + file)"
   ]
  },
  {
   "cell_type": "code",
   "execution_count": 25,
   "id": "8d83ce7a",
   "metadata": {},
   "outputs": [
    {
     "name": "stdout",
     "output_type": "stream",
     "text": [
      "from_mary/data1x/symbols from original_data/add\n",
      "from_mary/data1x/symbols from original_data/divide\n",
      "from_mary/data1x/symbols from original_data/eight\n",
      "from_mary/data1x/symbols from original_data/five\n",
      "from_mary/data1x/symbols from original_data/four\n",
      "from_mary/data1x/symbols from original_data/multiply\n",
      "from_mary/data1x/symbols from original_data/nine\n",
      "from_mary/data1x/symbols from original_data/one\n",
      "from_mary/data1x/symbols from original_data/seven\n",
      "from_mary/data1x/symbols from original_data/six\n",
      "from_mary/data1x/symbols from original_data/subtract\n",
      "from_mary/data1x/symbols from original_data/three\n",
      "from_mary/data1x/symbols from original_data/two\n",
      "from_mary/data1x/symbols from original_data/zero\n",
      "from_mary/data2x/symbols from original_data/add\n",
      "from_mary/data2x/symbols from original_data/divide\n",
      "from_mary/data2x/symbols from original_data/eight\n",
      "from_mary/data2x/symbols from original_data/five\n",
      "from_mary/data2x/symbols from original_data/four\n",
      "from_mary/data2x/symbols from original_data/multiply\n",
      "from_mary/data2x/symbols from original_data/nine\n",
      "from_mary/data2x/symbols from original_data/one\n",
      "from_mary/data2x/symbols from original_data/seven\n",
      "from_mary/data2x/symbols from original_data/six\n",
      "from_mary/data2x/symbols from original_data/subtract\n",
      "from_mary/data2x/symbols from original_data/three\n",
      "from_mary/data2x/symbols from original_data/two\n",
      "from_mary/data2x/symbols from original_data/zero\n",
      "from_amit/data1x/symbols from original_data/add\n",
      "from_amit/data1x/symbols from original_data/divide\n",
      "from_amit/data1x/symbols from original_data/eight\n",
      "from_amit/data1x/symbols from original_data/five\n",
      "from_amit/data1x/symbols from original_data/four\n",
      "from_amit/data1x/symbols from original_data/multiply\n",
      "from_amit/data1x/symbols from original_data/nine\n",
      "from_amit/data1x/symbols from original_data/one\n",
      "from_amit/data1x/symbols from original_data/seven\n",
      "from_amit/data1x/symbols from original_data/six\n",
      "from_amit/data1x/symbols from original_data/subtract\n",
      "from_amit/data1x/symbols from original_data/three\n",
      "from_amit/data1x/symbols from original_data/two\n",
      "from_amit/data1x/symbols from original_data/zero\n",
      "from_amit/data2x/symbols from original_data/add\n",
      "from_amit/data2x/symbols from original_data/divide\n",
      "from_amit/data2x/symbols from original_data/eight\n",
      "from_amit/data2x/symbols from original_data/five\n",
      "from_amit/data2x/symbols from original_data/four\n",
      "from_amit/data2x/symbols from original_data/multiply\n",
      "from_amit/data2x/symbols from original_data/nine\n",
      "from_amit/data2x/symbols from original_data/one\n",
      "from_amit/data2x/symbols from original_data/seven\n",
      "from_amit/data2x/symbols from original_data/six\n",
      "from_amit/data2x/symbols from original_data/subtract\n",
      "from_amit/data2x/symbols from original_data/three\n",
      "from_amit/data2x/symbols from original_data/two\n",
      "from_amit/data2x/symbols from original_data/zero\n",
      "from_haneesh/data1x/symbols from original_data/add\n",
      "from_haneesh/data1x/symbols from original_data/divide\n",
      "from_haneesh/data1x/symbols from original_data/eight\n",
      "from_haneesh/data1x/symbols from original_data/five\n",
      "from_haneesh/data1x/symbols from original_data/four\n",
      "from_haneesh/data1x/symbols from original_data/multiply\n",
      "from_haneesh/data1x/symbols from original_data/nine\n",
      "from_haneesh/data1x/symbols from original_data/one\n",
      "from_haneesh/data1x/symbols from original_data/seven\n",
      "from_haneesh/data1x/symbols from original_data/six\n",
      "from_haneesh/data1x/symbols from original_data/subtract\n",
      "from_haneesh/data1x/symbols from original_data/three\n",
      "from_haneesh/data1x/symbols from original_data/two\n",
      "from_haneesh/data1x/symbols from original_data/zero\n",
      "from_haneesh/data2x/symbols from original_data/add\n",
      "from_haneesh/data2x/symbols from original_data/divide\n",
      "from_haneesh/data2x/symbols from original_data/eight\n",
      "from_haneesh/data2x/symbols from original_data/five\n",
      "from_haneesh/data2x/symbols from original_data/four\n",
      "from_haneesh/data2x/symbols from original_data/multiply\n",
      "from_haneesh/data2x/symbols from original_data/nine\n",
      "from_haneesh/data2x/symbols from original_data/one\n",
      "from_haneesh/data2x/symbols from original_data/seven\n",
      "from_haneesh/data2x/symbols from original_data/six\n",
      "from_haneesh/data2x/symbols from original_data/subtract\n",
      "from_haneesh/data2x/symbols from original_data/three\n",
      "from_haneesh/data2x/symbols from original_data/two\n",
      "from_haneesh/data2x/symbols from original_data/zero\n"
     ]
    }
   ],
   "source": [
    "import os\n",
    "import shutil\n",
    "\n",
    "from_copy = ['mary', 'amit', 'haneesh']\n",
    "\n",
    "to_copy = 'combined_data'\n",
    "\n",
    "# copy images from each folder to to_copy folder\n",
    "\n",
    "counter = 1\n",
    "for folder in from_copy:\n",
    "    path1 = f'from_{folder}/data1x/symbols from original_data'\n",
    "    path2 = f'from_{folder}/data2x/symbols from original_data'\n",
    "\n",
    "    for folder1 in os.listdir(path1):\n",
    "        final_path = path1 + '/' + folder1\n",
    "        print(final_path)\n",
    "        for img in os.listdir(final_path):\n",
    "            shutil.copy(path1 + '/' + folder1 + '/' + img, to_copy + '/' + folder1 + '/' + str(counter) + img)\n",
    "            counter+=1\n",
    "\n",
    "    for folder2 in os.listdir(path2):\n",
    "        final_path = path2 + '/' + folder2\n",
    "        print(final_path)\n",
    "        for img in os.listdir(final_path):\n",
    "            shutil.copy(path2 + '/' + folder2 + '/' + img, to_copy + '/' + folder2 + '/' + str(counter) + img)"
   ]
  },
  {
   "cell_type": "markdown",
   "id": "5f0d3311",
   "metadata": {},
   "source": [
    "### Combining new images with older ones"
   ]
  },
  {
   "cell_type": "code",
   "execution_count": 29,
   "id": "d58a347d",
   "metadata": {},
   "outputs": [],
   "source": [
    "import os\n",
    "import shutil\n",
    "\n",
    "# copy images from main_folder to second_folder\n",
    "\n",
    "main_folder = 'combined_data'\n",
    "second_folder = 'combined_data_plus_previous'\n",
    "\n",
    "for folder in os.listdir(main_folder):\n",
    "    for img in os.listdir(main_folder + '/' + folder):\n",
    "        shutil.copy(main_folder + '/' + folder + '/' + img, second_folder + '/' + folder + '/' + img)"
   ]
  },
  {
   "cell_type": "code",
   "execution_count": 30,
   "id": "21786f77",
   "metadata": {},
   "outputs": [
    {
     "data": {
      "text/plain": [
       "{'add': 943,\n",
       " 'divide': 895,\n",
       " 'eight': 870,\n",
       " 'five': 825,\n",
       " 'four': 887,\n",
       " 'multiply': 1061,\n",
       " 'nine': 888,\n",
       " 'one': 1044,\n",
       " 'seven': 879,\n",
       " 'six': 835,\n",
       " 'subtract': 1041,\n",
       " 'three': 959,\n",
       " 'two': 969,\n",
       " 'zero': 779}"
      ]
     },
     "execution_count": 30,
     "metadata": {},
     "output_type": "execute_result"
    }
   ],
   "source": [
    "import os\n",
    "import shutil\n",
    "\n",
    "# get file count of each subfoler in a dictionary for main_folder\n",
    "\n",
    "main_folder = 'combined_data_plus_previous'\n",
    "\n",
    "subfolder_file_count = {}\n",
    "\n",
    "for subfolder in os.listdir(main_folder):\n",
    "    subfolder_file_count[subfolder] = len(os.listdir(main_folder + '/' + subfolder))\n",
    "    \n",
    "subfolder_file_count"
   ]
  }
 ],
 "metadata": {
  "kernelspec": {
   "display_name": "CV",
   "language": "python",
   "name": "cv"
  },
  "language_info": {
   "codemirror_mode": {
    "name": "ipython",
    "version": 3
   },
   "file_extension": ".py",
   "mimetype": "text/x-python",
   "name": "python",
   "nbconvert_exporter": "python",
   "pygments_lexer": "ipython3",
   "version": "3.10.0"
  }
 },
 "nbformat": 4,
 "nbformat_minor": 5
}
